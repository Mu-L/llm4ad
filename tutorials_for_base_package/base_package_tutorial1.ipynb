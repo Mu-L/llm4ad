{
 "cells": [
  {
   "cell_type": "markdown",
   "source": [
    "# Example about 'class Function', 'class Program', and how they convert to each other using 'class TextFunctionProgramConverter'"
   ],
   "metadata": {
    "collapsed": false
   },
   "id": "49f553aec4175b0e"
  },
  {
   "cell_type": "code",
   "execution_count": 1,
   "id": "initial_id",
   "metadata": {
    "collapsed": true,
    "ExecuteTime": {
     "end_time": "2024-06-11T16:38:16.704785Z",
     "start_time": "2024-06-11T16:38:14.039498Z"
    }
   },
   "outputs": [],
   "source": [
    "from alevo.base import TextFunctionProgramConverter"
   ]
  },
  {
   "cell_type": "markdown",
   "source": [
    "This is a program in str type."
   ],
   "metadata": {
    "collapsed": false
   },
   "id": "6154ed64221a8b5b"
  },
  {
   "cell_type": "code",
   "execution_count": 2,
   "outputs": [],
   "source": [
    "example_program_str = '''\\\n",
    "import numpy as np\n",
    "from typing import List\n",
    "\n",
    "def example_function(arr: List | np.ndarray):\n",
    "    \"\"\"This is an example function.\"\"\"\n",
    "    max = np.max(arr)\n",
    "    min = np.min(arr)\n",
    "    result = max + min\n",
    "    return result\n",
    "'''"
   ],
   "metadata": {
    "collapsed": false,
    "ExecuteTime": {
     "end_time": "2024-06-11T16:38:19.313570Z",
     "start_time": "2024-06-11T16:38:19.308370Z"
    }
   },
   "id": "c6af14f07c00a6f3"
  },
  {
   "cell_type": "markdown",
   "source": [
    "The str program can be converted to a *Program* instance."
   ],
   "metadata": {
    "collapsed": false
   },
   "id": "3d359c454677c450"
  },
  {
   "cell_type": "code",
   "execution_count": 3,
   "outputs": [
    {
     "name": "stdout",
     "output_type": "stream",
     "text": [
      "<class 'heuristic_evol.heuristic.code.Program'>\n",
      "---------------------------------\n",
      "import numpy as np\n",
      "from typing import List\n",
      "\n",
      "def example_function(arr: List | np.ndarray):\n",
      "    \"\"\"This is an example function.\"\"\"\n",
      "    max = np.max(arr)\n",
      "    min = np.min(arr)\n",
      "    result = max + min\n",
      "    return result\n",
      "\n",
      "\n",
      "---------------------------------\n",
      "def example_function(arr: List | np.ndarray):\n",
      "    \"\"\"This is an example function.\"\"\"\n",
      "    max = np.max(arr)\n",
      "    min = np.min(arr)\n",
      "    result = max + min\n",
      "    return result\n"
     ]
    }
   ],
   "source": [
    "example_program = TextFunctionProgramConverter.text_to_program(example_program_str)\n",
    "print(type(example_program))\n",
    "print('---------------------------------')\n",
    "print(str(example_program))\n",
    "print('---------------------------------')\n",
    "print(example_program.functions[0])"
   ],
   "metadata": {
    "collapsed": false,
    "ExecuteTime": {
     "end_time": "2024-06-11T16:38:23.281204Z",
     "start_time": "2024-06-11T16:38:23.274950Z"
    }
   },
   "id": "13d2df87f4082240"
  },
  {
   "cell_type": "markdown",
   "source": [
    "The function in the str program can be extracted into a *Function* instance.\n",
    "Please note that the function is not executable, as it lacks package import statements."
   ],
   "metadata": {
    "collapsed": false
   },
   "id": "efa7301ec35a7fbd"
  },
  {
   "cell_type": "code",
   "execution_count": 4,
   "outputs": [
    {
     "name": "stdout",
     "output_type": "stream",
     "text": [
      "<class 'heuristic_evol.heuristic.code.Function'>\n",
      "\n",
      "def example_function(arr: List | np.ndarray):\n",
      "    \"\"\"This is an example function.\"\"\"\n",
      "    max = np.max(arr)\n",
      "    min = np.min(arr)\n",
      "    result = max + min\n",
      "    return result\n",
      "\n",
      "\n",
      "\n",
      "[function name] \n",
      "example_function\n",
      "\n",
      "[function docstring] \n",
      "This is an example function.\n",
      "\n",
      "[function body] \n",
      "    max = np.max(arr)\n",
      "    min = np.min(arr)\n",
      "    result = max + min\n",
      "    return result\n"
     ]
    }
   ],
   "source": [
    "example_function = TextFunctionProgramConverter.text_to_function(example_program_str)\n",
    "print(type(example_function))\n",
    "print()\n",
    "print(str(example_function))\n",
    "print()\n",
    "print(f'[function name] \\n{example_function.name}\\n')\n",
    "print(f'[function docstring] \\n{example_function.docstring}\\n')\n",
    "print(f'[function body] \\n{example_function.body}\\n')"
   ],
   "metadata": {
    "collapsed": false,
    "ExecuteTime": {
     "end_time": "2024-06-11T16:38:39.092552Z",
     "start_time": "2024-06-11T16:38:39.081436Z"
    }
   },
   "id": "153fdd140340b4d2"
  },
  {
   "cell_type": "markdown",
   "source": [
    "You can convert a function (in str or Function instance) to a Program instance just by providing a template program.\n",
    "As shown below, the name of the function is modified to that in the template program, the package import statements are added, but the function body are preserved."
   ],
   "metadata": {
    "collapsed": false
   },
   "id": "da5272f0d7dbda"
  },
  {
   "cell_type": "code",
   "execution_count": 5,
   "outputs": [
    {
     "name": "stdout",
     "output_type": "stream",
     "text": [
      "import numpy as np\n",
      "from typing import List\n",
      "\n",
      "def example_function(arr: List | np.ndarray):\n",
      "    \"\"\"This is an example function.\"\"\"\n",
      "    max = np.max(arr)\n",
      "    min = np.min(arr)\n",
      "    result = max + min\n",
      "    return result\n"
     ]
    }
   ],
   "source": [
    "func = '''\n",
    "def ha_ha_ha_ha(arr: List | np.ndarray):\n",
    "    \"\"\"This is an example function.\"\"\"\n",
    "    max = np.max(arr)\n",
    "    min = np.min(arr)\n",
    "    result = max + min\n",
    "    return result\n",
    "'''\n",
    "\n",
    "program = TextFunctionProgramConverter.function_to_program(func, example_program)\n",
    "print(str(program))"
   ],
   "metadata": {
    "collapsed": false,
    "ExecuteTime": {
     "end_time": "2024-06-11T16:41:56.052569Z",
     "start_time": "2024-06-11T16:41:56.044809Z"
    }
   },
   "id": "77e2b23e059e48ab"
  },
  {
   "cell_type": "code",
   "execution_count": null,
   "outputs": [],
   "source": [],
   "metadata": {
    "collapsed": false
   },
   "id": "1e2a94ad5c6ddfcb"
  }
 ],
 "metadata": {
  "kernelspec": {
   "display_name": "Python 3",
   "language": "python",
   "name": "python3"
  },
  "language_info": {
   "codemirror_mode": {
    "name": "ipython",
    "version": 2
   },
   "file_extension": ".py",
   "mimetype": "text/x-python",
   "name": "python",
   "nbconvert_exporter": "python",
   "pygments_lexer": "ipython2",
   "version": "2.7.6"
  }
 },
 "nbformat": 4,
 "nbformat_minor": 5
}
