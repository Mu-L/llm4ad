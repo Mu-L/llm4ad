{
 "cells": [
  {
   "cell_type": "markdown",
   "source": [
    "# Example for 'class SamplerTrimmer'"
   ],
   "metadata": {
    "collapsed": false
   },
   "id": "49f553aec4175b0e"
  },
  {
   "cell_type": "code",
   "execution_count": null,
   "id": "initial_id",
   "metadata": {
    "collapsed": true
   },
   "outputs": [],
   "source": "from alevo.base import SamplerTrimmer"
  },
  {
   "cell_type": "markdown",
   "source": [
    "Below is an example of response content of LLM. "
   ],
   "metadata": {
    "collapsed": false
   },
   "id": "e6f0aad59a099bbc"
  },
  {
   "cell_type": "code",
   "execution_count": 12,
   "outputs": [],
   "source": [
    "llm_response_content = '''\\\n",
    "OK, this is the generated code:\n",
    "\n",
    "def my_function(arr):\n",
    "    \"\"\"This is an example function.\"\"\"\n",
    "    max = np.max(arr)\n",
    "    min = np.min(arr)\n",
    "    result = max / min\n",
    "    return result\n",
    "    \n",
    "This function aims to calculate the ...\n",
    "'''"
   ],
   "metadata": {
    "collapsed": false,
    "ExecuteTime": {
     "end_time": "2024-06-12T03:33:22.204183Z",
     "start_time": "2024-06-12T03:33:22.189914Z"
    }
   },
   "id": "c6af14f07c00a6f3"
  },
  {
   "cell_type": "markdown",
   "source": [
    "In our pipline, we only want the informative part, i.e., the code for the heuristic. So we can trim the redundant part (\"OK, this is ...\", \"This function aims to ...\") of the generated content by using the *SamplerTrimmer.auto_trim*. The *auto_trim* function can automatically identify if a response content is come from an instruct model (i.e., GPT-3.5) or a completion model (i.e., StarCoder), and perform correspond operations to trim the code.\n",
    "\n",
    "The trimmed result of the response content consists of **function body** and **descriptions** after the function body (don't worry about the content after the function body, as they can be removed easily)."
   ],
   "metadata": {
    "collapsed": false
   },
   "id": "31cf34e6119e1c98"
  },
  {
   "cell_type": "code",
   "execution_count": 13,
   "outputs": [
    {
     "name": "stdout",
     "output_type": "stream",
     "text": [
      "    \"\"\"This is an example function.\"\"\"\n",
      "    max = np.max(arr)\n",
      "    min = np.min(arr)\n",
      "    result = max / min\n",
      "    return result\n",
      "    \n",
      "This function aims to calculate the ...\n"
     ]
    }
   ],
   "source": [
    "trimmed_response_content = SamplerTrimmer.auto_trim(llm_response_content)\n",
    "print(trimmed_response_content)"
   ],
   "metadata": {
    "collapsed": false,
    "ExecuteTime": {
     "end_time": "2024-06-12T03:33:26.367809Z",
     "start_time": "2024-06-12T03:33:26.357667Z"
    }
   },
   "id": "13d2df87f4082240"
  },
  {
   "cell_type": "markdown",
   "source": [
    "Convert the trimmed response content (in str) to a Program instance by giving a template program."
   ],
   "metadata": {
    "collapsed": false
   },
   "id": "a4fa71944d91c852"
  },
  {
   "cell_type": "code",
   "execution_count": 15,
   "outputs": [
    {
     "name": "stdout",
     "output_type": "stream",
     "text": [
      "import numpy as np\n",
      "\n",
      "def func(arr):\n",
      "    \"\"\"This is an example function.\"\"\"\n",
      "    max = np.max(arr)\n",
      "    min = np.min(arr)\n",
      "    result = max / min\n",
      "    return result\n"
     ]
    }
   ],
   "source": [
    "template_program = '''\\\n",
    "import numpy as np\n",
    "\n",
    "def func(arr):\n",
    "    return arr\n",
    "'''\n",
    "\n",
    "program = SamplerTrimmer.sample_to_program(trimmed_response_content, template_program)\n",
    "print(str(program))"
   ],
   "metadata": {
    "collapsed": false,
    "ExecuteTime": {
     "end_time": "2024-06-12T03:33:50.799796Z",
     "start_time": "2024-06-12T03:33:50.791734Z"
    }
   },
   "id": "153fdd140340b4d2"
  },
  {
   "cell_type": "code",
   "execution_count": null,
   "outputs": [],
   "source": [],
   "metadata": {
    "collapsed": false
   },
   "id": "4d8edca85aa55d61"
  }
 ],
 "metadata": {
  "kernelspec": {
   "display_name": "Python 3",
   "language": "python",
   "name": "python3"
  },
  "language_info": {
   "codemirror_mode": {
    "name": "ipython",
    "version": 2
   },
   "file_extension": ".py",
   "mimetype": "text/x-python",
   "name": "python",
   "nbconvert_exporter": "python",
   "pygments_lexer": "ipython2",
   "version": "2.7.6"
  }
 },
 "nbformat": 4,
 "nbformat_minor": 5
}
