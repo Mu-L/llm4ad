{
 "cells": [
  {
   "cell_type": "markdown",
   "source": [
    "# Example for 'class ModifyCode'"
   ],
   "metadata": {
    "collapsed": false
   },
   "id": "49f553aec4175b0e"
  },
  {
   "cell_type": "code",
   "execution_count": 1,
   "id": "initial_id",
   "metadata": {
    "collapsed": true,
    "ExecuteTime": {
     "end_time": "2024-06-11T07:31:35.057888Z",
     "start_time": "2024-06-11T07:31:32.378680Z"
    }
   },
   "outputs": [],
   "source": [
    "from alevo.base import ModifyCode\n",
    "from alevo.base import TextFunctionProgramConverter"
   ]
  },
  {
   "cell_type": "code",
   "execution_count": 2,
   "outputs": [],
   "source": [
    "example_program_str = '''\\\n",
    "import numpy as np\n",
    "from typing import List\n",
    "\n",
    "def example_function(arr: List | np.ndarray):\n",
    "    \"\"\"This is an example function.\"\"\"\n",
    "    max = np.max(arr)\n",
    "    min = np.min(arr)\n",
    "    result = max / min\n",
    "    return result\n",
    "'''"
   ],
   "metadata": {
    "collapsed": false,
    "ExecuteTime": {
     "end_time": "2024-06-11T07:31:35.942211Z",
     "start_time": "2024-06-11T07:31:35.935255Z"
    }
   },
   "id": "c6af14f07c00a6f3"
  },
  {
   "cell_type": "markdown",
   "source": [
    "The \"get_functions_called\" function can extract the function name of the code."
   ],
   "metadata": {
    "collapsed": false
   },
   "id": "afd21b273ef31763"
  },
  {
   "cell_type": "code",
   "execution_count": 3,
   "outputs": [
    {
     "name": "stdout",
     "output_type": "stream",
     "text": [
      "{'example_function'}\n"
     ]
    }
   ],
   "source": [
    "all_functions = ModifyCode.get_functions_name(example_program_str)\n",
    "print(all_functions)"
   ],
   "metadata": {
    "collapsed": false,
    "ExecuteTime": {
     "end_time": "2024-06-11T07:31:36.804797Z",
     "start_time": "2024-06-11T07:31:36.797661Z"
    }
   },
   "id": "13d2df87f4082240"
  },
  {
   "cell_type": "code",
   "execution_count": 4,
   "outputs": [
    {
     "name": "stdout",
     "output_type": "stream",
     "text": [
      "import numpy as np\n",
      "from typing import List\n",
      "\n",
      "def ha_ha_ha_ha(arr: List | np.ndarray):\n",
      "    \"\"\"This is an example function.\"\"\"\n",
      "    max = np.max(arr)\n",
      "    min = np.min(arr)\n",
      "    result = max / min\n",
      "    return result\n"
     ]
    }
   ],
   "source": [
    "function_name = TextFunctionProgramConverter.text_to_function(example_program_str).name\n",
    "modified_program = ModifyCode.rename_function(example_program_str, function_name, 'ha_ha_ha_ha')\n",
    "print(modified_program)"
   ],
   "metadata": {
    "collapsed": false,
    "ExecuteTime": {
     "end_time": "2024-06-11T07:31:37.681116Z",
     "start_time": "2024-06-11T07:31:37.674999Z"
    }
   },
   "id": "153fdd140340b4d2"
  },
  {
   "cell_type": "code",
   "execution_count": 5,
   "outputs": [
    {
     "name": "stdout",
     "output_type": "stream",
     "text": [
      "import numba\n",
      "import numpy as np\n",
      "from typing import List\n",
      "\n",
      "@numba.jit(nopython=True)\n",
      "def example_function(arr: List | np.ndarray):\n",
      "    \"\"\"This is an example function.\"\"\"\n",
      "    max = np.max(arr)\n",
      "    min = np.min(arr)\n",
      "    result = max / min\n",
      "    return result\n"
     ]
    }
   ],
   "source": [
    "function_name = TextFunctionProgramConverter.text_to_function(example_program_str).name\n",
    "modified_program = ModifyCode.add_numba_decorator(example_program_str, function_name)\n",
    "print(modified_program)"
   ],
   "metadata": {
    "collapsed": false,
    "ExecuteTime": {
     "end_time": "2024-06-11T07:31:38.669751Z",
     "start_time": "2024-06-11T07:31:38.657201Z"
    }
   },
   "id": "77e2b23e059e48ab"
  },
  {
   "cell_type": "code",
   "execution_count": 6,
   "outputs": [
    {
     "name": "stdout",
     "output_type": "stream",
     "text": [
      "import numpy as np\n",
      "np.random.seed(2024)\n",
      "from typing import List\n",
      "\n",
      "def example_function(arr: List | np.ndarray):\n",
      "    \"\"\"This is an example function.\"\"\"\n",
      "    max = np.max(arr)\n",
      "    min = np.min(arr)\n",
      "    result = max / min\n",
      "    return result\n"
     ]
    }
   ],
   "source": [
    "function_name = TextFunctionProgramConverter.text_to_function(example_program_str).name\n",
    "modified_program = ModifyCode.add_np_random_seed_below_numpy_import(example_program_str, seed=2024)\n",
    "print(modified_program)"
   ],
   "metadata": {
    "collapsed": false,
    "ExecuteTime": {
     "end_time": "2024-06-11T07:31:39.418617Z",
     "start_time": "2024-06-11T07:31:39.410531Z"
    }
   },
   "id": "1e2a94ad5c6ddfcb"
  },
  {
   "cell_type": "code",
   "execution_count": 7,
   "outputs": [
    {
     "name": "stdout",
     "output_type": "stream",
     "text": [
      "import pandas as pd\n",
      "import numpy as np\n",
      "from typing import List\n",
      "\n",
      "def example_function(arr: List | np.ndarray):\n",
      "    \"\"\"This is an example function.\"\"\"\n",
      "    max = np.max(arr)\n",
      "    min = np.min(arr)\n",
      "    result = max / min\n",
      "    return result\n"
     ]
    }
   ],
   "source": [
    "modified_function = ModifyCode.add_import_package_statement(example_program_str, package_name='pandas', as_name='pd')\n",
    "print(modified_function)"
   ],
   "metadata": {
    "collapsed": false,
    "ExecuteTime": {
     "end_time": "2024-06-11T07:31:40.252343Z",
     "start_time": "2024-06-11T07:31:40.244702Z"
    }
   },
   "id": "d5115c8b9a480d94"
  },
  {
   "cell_type": "code",
   "execution_count": 8,
   "outputs": [
    {
     "name": "stdout",
     "output_type": "stream",
     "text": [
      "import numpy as np\n",
      "from typing import List\n",
      "\n",
      "def example_function(arr: List | np.ndarray):\n",
      "    \"\"\"This is an example function.\"\"\"\n",
      "    max = np.max(arr)\n",
      "    min = np.min(arr)\n",
      "    result = _protected_div(max, min)\n",
      "    return result\n",
      "\n",
      "\n",
      "def _protected_div(x, y, delta=0.0001):\n",
      "    return x / (y + delta)\n",
      "        \n"
     ]
    }
   ],
   "source": [
    "modified_function = ModifyCode.replace_div_with_protected_div(example_program_str, delta=1e-4)\n",
    "print(modified_function)"
   ],
   "metadata": {
    "collapsed": false,
    "ExecuteTime": {
     "end_time": "2024-06-11T07:31:41.366453Z",
     "start_time": "2024-06-11T07:31:41.361154Z"
    }
   },
   "id": "52f0c9460b5f65ba"
  },
  {
   "cell_type": "code",
   "execution_count": null,
   "outputs": [],
   "source": [],
   "metadata": {
    "collapsed": false
   },
   "id": "e2db911700b90920"
  }
 ],
 "metadata": {
  "kernelspec": {
   "display_name": "Python 3",
   "language": "python",
   "name": "python3"
  },
  "language_info": {
   "codemirror_mode": {
    "name": "ipython",
    "version": 2
   },
   "file_extension": ".py",
   "mimetype": "text/x-python",
   "name": "python",
   "nbconvert_exporter": "python",
   "pygments_lexer": "ipython2",
   "version": "2.7.6"
  }
 },
 "nbformat": 4,
 "nbformat_minor": 5
}
